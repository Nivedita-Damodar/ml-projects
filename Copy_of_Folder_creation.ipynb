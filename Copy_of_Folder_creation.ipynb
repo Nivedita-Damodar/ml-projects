{
  "nbformat": 4,
  "nbformat_minor": 0,
  "metadata": {
    "colab": {
      "provenance": [],
      "authorship_tag": "ABX9TyN+L3qlZZPMH1sinz92jJY4",
      "include_colab_link": true
    },
    "kernelspec": {
      "name": "python3",
      "display_name": "Python 3"
    },
    "language_info": {
      "name": "python"
    }
  },
  "cells": [
    {
      "cell_type": "markdown",
      "metadata": {
        "id": "view-in-github",
        "colab_type": "text"
      },
      "source": [
        "<a href=\"https://colab.research.google.com/github/Nivedita-Damodar/ml-projects/blob/main/Copy_of_Folder_creation.ipynb\" target=\"_parent\"><img src=\"https://colab.research.google.com/assets/colab-badge.svg\" alt=\"Open In Colab\"/></a>"
      ]
    },
    {
      "cell_type": "code",
      "execution_count": null,
      "metadata": {
        "colab": {
          "base_uri": "https://localhost:8080/"
        },
        "id": "2ZYrnrRAIqbn",
        "outputId": "8ce02937-cced-4be9-f892-ba845e32bbba"
      },
      "outputs": [
        {
          "output_type": "stream",
          "name": "stdout",
          "text": [
            "Mounted at /content/drive\n"
          ]
        }
      ],
      "source": [
        "from google.colab import drive\n",
        "drive.mount('/content/drive')\n"
      ]
    },
    {
      "cell_type": "code",
      "source": [
        "import os\n",
        "\n",
        "# Path to your project inside Google Drive\n",
        "project_path = \"/content/drive/MyDrive/llm_finetuning\"\n",
        "\n",
        "# Define subfolders\n",
        "folders = [\n",
        "    \"configs\",\n",
        "    \"data/raw\",\n",
        "    \"data/processed\",\n",
        "    \"models/base\",\n",
        "    \"models/finetuned\",\n",
        "    \"logs\",\n",
        "    \"outputs/metrics\",\n",
        "    \"outputs/predictions\",\n",
        "    \"scripts\",\n",
        "    \"notebooks\"\n",
        "]\n",
        "\n",
        "# Create directories\n",
        "for folder in folders:\n",
        "    path = os.path.join(project_path, folder)\n",
        "    os.makedirs(path, exist_ok=True)\n",
        "\n",
        "print(f\"✅ Folder structure created under: {project_path}\")\n"
      ],
      "metadata": {
        "colab": {
          "base_uri": "https://localhost:8080/"
        },
        "id": "XPemQ8dxIvoj",
        "outputId": "931cc40b-1243-48bb-925f-5998fd67ae28"
      },
      "execution_count": null,
      "outputs": [
        {
          "output_type": "stream",
          "name": "stdout",
          "text": [
            "✅ Folder structure created under: /content/drive/MyDrive/llm_finetuning\n"
          ]
        }
      ]
    },
    {
      "cell_type": "code",
      "source": [],
      "metadata": {
        "id": "lp4teIr2KSqh"
      },
      "execution_count": null,
      "outputs": []
    },
    {
      "cell_type": "code",
      "source": [],
      "metadata": {
        "id": "P8lOoPjdJWK7"
      },
      "execution_count": null,
      "outputs": []
    }
  ]
}